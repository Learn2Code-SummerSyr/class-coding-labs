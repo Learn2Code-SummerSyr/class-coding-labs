{
 "cells": [
  {
   "cell_type": "markdown",
   "metadata": {
    "collapsed": true
   },
   "source": [
    "# In-Class Coding Lab: Databases\n",
    "\n",
    "The goals of this lab are to help you to understand:\n",
    "\n",
    "- Using the SqlLite database engine to store relational data\n",
    "- Create a database and tables for your application\n",
    "- Saving, retrieving, updating, and deleting data in the database\n",
    "\n",
    "\n",
    "A database is a file that is organized for storing data. Most databases are organized like a dictionary in the sense that they map from keys to values. Databases are build using columns and rows, just like and excel file. The other great thing about databases is they persist. Just like files your data will be available again if you have to restart your program."
   ]
  },
  {
   "cell_type": "markdown",
   "metadata": {},
   "source": [
    "## Our Favs\n",
    "\n",
    "For our program we have decided to build a list of our favorite music tracks. Our goal is to create a database that contains a list of our favorite songs and artists. To do this we will use a database to store all the data we submit so we can look it up later.\n",
    "\n",
    "First, we will need to model our data. Data modeling gives us the opportunity to think through our data and develop a schema for our database. This approach takes much less time then recreating a new database everytime you realize you need to add a new column to your table. It also allows you to think through complex relationships and how to build your database to best represent them. Data modeling can be a sophisticated problem, for our use case we will keep it simple. If you want a quick lesson on data modeling [check this out](http://www.agiledata.org/essays/dataModeling101.html)\n",
    "\n",
    "\n",
    "First step in modeling data is breaking your data entity into separate properties. Databases require you to define the type of data that it is storing in each column. So for our favs, we would need to have some sort of identifier, the title of the song, and the artist. Each property needs to be assigned a type. For example\n",
    "\n",
    "- favid: Interger (Identifier, This is called a primary key)\n",
    "- title: string\n",
    "- artist: string\n",
    "\n",
    "Now that we have a simple model for our data, we need to create our database."
   ]
  },
  {
   "cell_type": "code",
   "execution_count": 4,
   "metadata": {
    "collapsed": true
   },
   "outputs": [],
   "source": [
    "import sqlite3\n",
    "\n",
    "conn = sqlite3.connect('myfavs_test.sqlite3')\n",
    "cur = conn.cursor()\n",
    "\n",
    "cur.execute('''DROP TABLE IF EXISTS Favs''')\n",
    "\n",
    "# Below we create the table, the AUTOINCREMENT keywork tells the database to track our identifier\n",
    "cur.execute('''CREATE TABLE Favs (favid INTEGER PRIMARY KEY AUTOINCREMENT, title TEXT, artist Text)''')\n",
    "\n",
    "conn.close()"
   ]
  },
  {
   "cell_type": "markdown",
   "metadata": {},
   "source": [
    "To view the database that we just created download and install the [sqllitebrowser](http://sqlitebrowser.org/). If you look in the directory that this file is contained in, you should see a new file called myfavs_text.sqllite3. When you open the database you will see a new table called Favs with the columns that we specified.\n",
    "\n",
    "Now that we have a database lets add a fav to it. To interact with a database we use SQL or Structured Query Language. Since there are so many different database vendors, SQL was standardized so we could communicate with systems from multiple vendors.\n",
    "\n",
    "There is a great tutorial on SQL at [W3Schools](https://www.w3schools.com/SQL/deFault.asp). We will be covering the basics in\n",
    "this lab, but I encourage you to check out the tutorial in your free time.\n",
    "\n",
    "### Inserting Data\n",
    "\n",
    "First we need to add a fav to the database. To do this we use the INSERT statement."
   ]
  },
  {
   "cell_type": "code",
   "execution_count": 7,
   "metadata": {
    "collapsed": false
   },
   "outputs": [],
   "source": [
    "import sqlite3\n",
    "\n",
    "# Connect to our database\n",
    "conn = sqlite3.connect('myfavs_test.sqlite3')\n",
    "# get a cursor\n",
    "cur = conn.cursor()\n",
    "# Execute a command\n",
    "cur.execute('''INSERT INTO Favs (title, artist) VALUES (?, ?)''', ('Smells Like Teen Spirit', 'Nirvana'))\n",
    "# Commits changes\n",
    "conn.commit()\n",
    "conn.close()"
   ]
  },
  {
   "cell_type": "markdown",
   "metadata": {},
   "source": [
    "Open the database to see the row inserted into the Favs table. So what just happened? Lets walk through each step.\n",
    "\n",
    "1. Import the sqllite3 library\n",
    "2. Connect to the database, place the connection in the conn variable\n",
    "3. Get a cursor from the database, a cursor gets used to execute commands to the database\n",
    "4. Execute the insert command, we place our command in ''', this allows us to use ' and \" quotes in our sql commands without having to worry about escaping that character.\n",
    "5. when you update data in the database you need to commit it. this allows you to undo the changes before you actually do any writing, in the database world this is called a transaction.\n",
    "6. Close the connection\n",
    "\n",
    "You are probably also wondering why we use the ?'s in our SQL statement? This protects your program against an attack call sql injection, this is an attack where someone can injet there own sql code into your command to execute there own commands on your database, such as deleting all of your data.\n",
    "\n",
    "Now you try to insert one of your favs"
   ]
  },
  {
   "cell_type": "code",
   "execution_count": 8,
   "metadata": {
    "collapsed": true
   },
   "outputs": [],
   "source": [
    "# Write your code here.\n",
    "\n"
   ]
  },
  {
   "cell_type": "markdown",
   "metadata": {},
   "source": [
    "### Retrieving Data\n",
    "\n",
    "Now that we have some data in our database, lets try to read it back out so we can use it in our program. \n",
    "\n",
    "To do this we use a \"select\" statement. Everything else is the same. When you read data from a database the data is returned as a list of rows."
   ]
  },
  {
   "cell_type": "code",
   "execution_count": 9,
   "metadata": {
    "collapsed": false
   },
   "outputs": [
    {
     "name": "stdout",
     "output_type": "stream",
     "text": [
      "(1, 'Smells Like Teen Spirit', 'Nirvana')\n"
     ]
    }
   ],
   "source": [
    "import sqlite3\n",
    "conn = sqlite3.connect('myfavs_test.sqlite3')\n",
    "cur = conn.cursor()\n",
    "# Execute a select command\n",
    "rows = cur.execute('''SELECT * FROM Favs''')\n",
    "\n",
    "# Iterate over the results\n",
    "for row in rows:\n",
    "    print(row)\n",
    "\n",
    "\n",
    "conn.close()"
   ]
  },
  {
   "cell_type": "markdown",
   "metadata": {},
   "source": [
    "So far so good! So what if we want to only retrieve a filtered amount of data? we use the WHERE keyword and a condition."
   ]
  },
  {
   "cell_type": "code",
   "execution_count": 11,
   "metadata": {
    "collapsed": false
   },
   "outputs": [
    {
     "name": "stdout",
     "output_type": "stream",
     "text": [
      "(1, 'Smells Like Teen Spirit', 'Nirvana')\n"
     ]
    }
   ],
   "source": [
    "import sqlite3\n",
    "conn = sqlite3.connect('myfavs_test.sqlite3')\n",
    "cur = conn.cursor()\n",
    "# Execute a select command\n",
    "rows = cur.execute('''SELECT * FROM Favs WHERE artist=?''', ('Nirvana',))\n",
    "\n",
    "# Iterate over the results\n",
    "for row in rows:\n",
    "    print(row)\n",
    "\n",
    "\n",
    "conn.close()"
   ]
  },
  {
   "cell_type": "markdown",
   "metadata": {},
   "source": [
    "Now you try to get all of your favs by your artist."
   ]
  },
  {
   "cell_type": "code",
   "execution_count": null,
   "metadata": {
    "collapsed": true
   },
   "outputs": [],
   "source": [
    "# Write your code here\n",
    "\n"
   ]
  },
  {
   "cell_type": "markdown",
   "metadata": {},
   "source": [
    "So what if we just want 1 result? We would use this if we wanted to get a record that we needed to update (More on this in a min). To do this we use the LIMIT keyword in our sql statement and the fetchone() method of our cursor object. USUALLY we use the primary key to look up a single record.\n",
    "\n",
    "fetchone() will return None if a record is not found, in most programs we would want to check for this and let the user know that your program couldn't find that record. \n",
    "\n",
    "In the example below, change the 1 to 100 in our sql statement, and see the result."
   ]
  },
  {
   "cell_type": "code",
   "execution_count": 13,
   "metadata": {
    "collapsed": false
   },
   "outputs": [
    {
     "name": "stdout",
     "output_type": "stream",
     "text": [
      "Row does not exist\n"
     ]
    }
   ],
   "source": [
    "import sqlite3\n",
    "conn = sqlite3.connect('myfavs_test.sqlite3')\n",
    "cur = conn.cursor()\n",
    "# Execute a select command\n",
    "row = cur.execute('''SELECT * FROM Favs WHERE favid=?''', (1,)).fetchone()\n",
    "\n",
    "# row will be a single row or None. In a real program we would want to check this\n",
    "if row is not None:\n",
    "    print(row)\n",
    "else:\n",
    "    print(\"Row does not exist\")\n",
    "\n",
    "\n",
    "conn.close()"
   ]
  },
  {
   "cell_type": "markdown",
   "metadata": {},
   "source": [
    "Now you try, using the results from finding all of the data, fetch your record from the database."
   ]
  },
  {
   "cell_type": "code",
   "execution_count": null,
   "metadata": {
    "collapsed": true
   },
   "outputs": [],
   "source": [
    "# Write your code here\n",
    "\n"
   ]
  },
  {
   "cell_type": "markdown",
   "metadata": {},
   "source": [
    "### Updating data\n",
    "\n",
    "A database wouldn't really be useful if you couldn't change the data. So lets do that. The steps required for changing a record in the database are as follows:\n",
    "\n",
    "- Retrieve the record from the database\n",
    "- Update values in the data\n",
    "- Save the data back to the database\n",
    "\n",
    "Lets start by getting the record we need to change, we use the same code as above, Once you have the data, change the data in the record. and update the record in the database. To do this we use the UPDATE and SET keywords in our sql statement. we need to use the WHERE and provide a condition for which record to update. In our examples we use the primary key 'favid' because this guarantess that we are updating only the record we want to update."
   ]
  },
  {
   "cell_type": "code",
   "execution_count": 26,
   "metadata": {
    "collapsed": false
   },
   "outputs": [
    {
     "name": "stdout",
     "output_type": "stream",
     "text": [
      "original values: \n",
      "[1, 'Smells like teen spirit', 'Nirvana']\n",
      "New values: \n",
      "[1, 'Lithium', 'Nirvana']\n"
     ]
    }
   ],
   "source": [
    "import sqlite3\n",
    "conn = sqlite3.connect('myfavs_test.sqlite3')\n",
    "\n",
    "cur = conn.cursor()\n",
    "\n",
    "# Get the record from the database, When performing and update you should always do this first\n",
    "row = cur.execute('''SELECT * FROM Favs WHERE favid=?''', (1,)).fetchone()\n",
    "\n",
    "if row is None:\n",
    "    print(\"Record does not exist\")\n",
    "\n",
    "# row is a tuple, tuples are immutable to we need to covert it to a list to change it.\n",
    "row = list(row)\n",
    "\n",
    "print(\"original values: \")\n",
    "print(row)\n",
    "\n",
    "# Change the data in the list using the index\n",
    "# This will change the song name\n",
    "row[1] = 'Lithium'\n",
    "\n",
    "# Print the data to see that it changed\n",
    "print(\"New values: \")\n",
    "print(row)\n",
    "\n",
    "# Now update the record in the database using the UPDATE keyword\n",
    "cur.execute('''UPDATE Favs SET title=? WHERE favid=?''', (row[1], row[0]))\n",
    "\n",
    "conn.commit()\n",
    "\n",
    "conn.close()\n"
   ]
  },
  {
   "cell_type": "markdown",
   "metadata": {},
   "source": [
    "Now if you open the database in the viewer again, you will see that the data was updated.\n",
    "\n",
    "Now its your turn!\n",
    "\n",
    "Write a program that updates more than one record. It's almost the same as above but we will need to add a couple of loops to handle updating many records.\n",
    "\n",
    "Before you get started, First insert the following songs into your library by running the code below"
   ]
  },
  {
   "cell_type": "code",
   "execution_count": 27,
   "metadata": {
    "collapsed": true
   },
   "outputs": [],
   "source": [
    "import sqlite3\n",
    "conn = sqlite3.connect('myfavs_test.sqlite3')\n",
    "\n",
    "cur = conn.cursor()\n",
    "\n",
    "songs = ['Roar', 'Last Friday Night', 'Firework']\n",
    "artist = 'Matthew Perry'\n",
    "for song in songs:\n",
    "    cur.execute('''INSERT INTO Favs (title, artist) VALUES (?, ?)''', (song, artist))\n",
    "    \n",
    "conn.commit()\n",
    "conn.close()"
   ]
  },
  {
   "cell_type": "markdown",
   "metadata": {},
   "source": [
    "Now if your a big Katie Perry fan, you will notice that we really screwed this up. Write the program to fix this below.\n",
    "\n",
    "Here are the steps you will need to follow.\n",
    "- Get all the records from the database\n",
    "- Loop through each row executing an update for each record.\n",
    "- Once all of the updates have been execute\n",
    "- Commit all of the changes to the database\n",
    "- Close the connection"
   ]
  },
  {
   "cell_type": "code",
   "execution_count": null,
   "metadata": {
    "collapsed": true
   },
   "outputs": [],
   "source": [
    "# Write your code here!\n",
    "\n"
   ]
  },
  {
   "cell_type": "markdown",
   "metadata": {},
   "source": [
    "### Deleting Data\n",
    "\n",
    "Ok, so we decided that we are no longer big Katie Perry fans, and we don't want her on our list anymore. How do we fix that. \n",
    "\n",
    "By useing the DELETE statement, you may need to alter the code below to match how you changed her name in the database"
   ]
  },
  {
   "cell_type": "code",
   "execution_count": 31,
   "metadata": {
    "collapsed": true
   },
   "outputs": [],
   "source": [
    "import sqlite3\n",
    "conn = sqlite3.connect('myfavs_test.sqlite3')\n",
    "cur = conn.cursor()\n",
    "\n",
    "# We execute the delete statement below\n",
    "cur.execute('''DELETE FROM Favs WHERE artist=?''', ('Mathew Perry', ))\n",
    "    \n",
    "conn.commit()\n",
    "conn.close()"
   ]
  },
  {
   "cell_type": "markdown",
   "metadata": {},
   "source": [
    "Now check your database again and you see that the records for Katie are now gone.\n",
    "\n",
    "Now you try! \n",
    "\n",
    "You decide that Nirvana isn't for you either, write the code below to also remove them from the database."
   ]
  },
  {
   "cell_type": "code",
   "execution_count": 30,
   "metadata": {
    "collapsed": true
   },
   "outputs": [],
   "source": [
    "# Write your code here\n",
    "\n"
   ]
  },
  {
   "cell_type": "markdown",
   "metadata": {},
   "source": [
    "### Good job!\n",
    "\n",
    "Now this lab just illustrates very basic database operations, but hopefully you can see the the power that can be weilded by using databases. The best part is the data persists across usages of your application. Many programmers will use functions encapsulate each functionality."
   ]
  },
  {
   "cell_type": "code",
   "execution_count": null,
   "metadata": {
    "collapsed": true
   },
   "outputs": [],
   "source": []
  }
 ],
 "metadata": {
  "kernelspec": {
   "display_name": "Python 3",
   "language": "python",
   "name": "python3"
  },
  "language_info": {
   "codemirror_mode": {
    "name": "ipython",
    "version": 3
   },
   "file_extension": ".py",
   "mimetype": "text/x-python",
   "name": "python",
   "nbconvert_exporter": "python",
   "pygments_lexer": "ipython3",
   "version": "3.5.2"
  }
 },
 "nbformat": 4,
 "nbformat_minor": 2
}
